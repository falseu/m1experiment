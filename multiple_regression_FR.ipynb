{
 "cells": [
  {
   "cell_type": "markdown",
   "metadata": {},
   "source": [
    "# Fluency Rateを線形重回帰、lasso回帰"
   ]
  },
  {
   "cell_type": "code",
   "execution_count": 1,
   "metadata": {},
   "outputs": [],
   "source": [
    "from sklearn.model_selection import train_test_split\n",
    "from sklearn.linear_model import ElasticNet\n",
    "from sklearn import linear_model, preprocessing\n",
    "from sklearn.model_selection import KFold\n",
    "from sklearn.metrics import r2_score\n",
    "from sklearn.preprocessing import StandardScaler"
   ]
  },
  {
   "cell_type": "code",
   "execution_count": 2,
   "metadata": {},
   "outputs": [],
   "source": [
    "import pandas as pd\n",
    "import numpy as np\n",
    "from pandas import Series,DataFrame\n",
    "from statistics import mean\n",
    "import matplotlib.pyplot as plt\n",
    "%matplotlib inline"
   ]
  },
  {
   "cell_type": "code",
   "execution_count": 3,
   "metadata": {},
   "outputs": [
    {
     "name": "stdout",
     "output_type": "stream",
     "text": [
      "     FR\n",
      "0   5.8\n",
      "1   3.5\n",
      "2   2.0\n",
      "3   3.1\n",
      "4   3.6\n",
      "..  ...\n",
      "95  9.0\n",
      "96  9.0\n",
      "97  9.0\n",
      "98  9.0\n",
      "99  9.0\n",
      "\n",
      "[100 rows x 1 columns]\n",
      "    ATCL_P  phonation_rate\n",
      "0     3.30        0.785853\n",
      "1     3.43        0.678720\n",
      "2     3.31        0.465385\n",
      "3     2.87        0.571048\n",
      "4     4.02        0.637371\n",
      "..     ...             ...\n",
      "95    3.75        0.918424\n",
      "96    4.99        0.690372\n",
      "97    4.19        0.882544\n",
      "98    4.44        0.791738\n",
      "99    4.47        0.791246\n",
      "\n",
      "[100 rows x 2 columns]\n"
     ]
    }
   ],
   "source": [
    "# import xlrd\n",
    "data1 = pd.ExcelFile('main_data_1.xlsx')  #Quantity features and fluency score are in this excel file\n",
    "df1 = data1.parse('Sheet1') #Explantion for each coloumn is in Sheet explantion\n",
    "X = df1.filter([\"ATCL_P\",\"phonation_rate\"])  #Select features used to do regression. ATCL_P: articulation rate by using Prrat\n",
    "y = df1.filter([\"FR\"]) #Fluency rating\n",
    "print(y)\n",
    "print(X)"
   ]
  },
  {
   "cell_type": "code",
   "execution_count": 6,
   "metadata": {},
   "outputs": [
    {
     "data": {
      "text/html": [
       "<div>\n",
       "<style scoped>\n",
       "    .dataframe tbody tr th:only-of-type {\n",
       "        vertical-align: middle;\n",
       "    }\n",
       "\n",
       "    .dataframe tbody tr th {\n",
       "        vertical-align: top;\n",
       "    }\n",
       "\n",
       "    .dataframe thead th {\n",
       "        text-align: right;\n",
       "    }\n",
       "</style>\n",
       "<table border=\"1\" class=\"dataframe\">\n",
       "  <thead>\n",
       "    <tr style=\"text-align: right;\">\n",
       "      <th></th>\n",
       "      <th>ID</th>\n",
       "      <th>FG</th>\n",
       "      <th>FR</th>\n",
       "      <th>ATCL_P</th>\n",
       "      <th>dur (s)</th>\n",
       "      <th>phn-tm (s)</th>\n",
       "      <th>phonation_rate</th>\n",
       "    </tr>\n",
       "  </thead>\n",
       "  <tbody>\n",
       "    <tr>\n",
       "      <th>0</th>\n",
       "      <td>101</td>\n",
       "      <td>1</td>\n",
       "      <td>5.8</td>\n",
       "      <td>3.30</td>\n",
       "      <td>15.41</td>\n",
       "      <td>12.11</td>\n",
       "      <td>0.785853</td>\n",
       "    </tr>\n",
       "    <tr>\n",
       "      <th>1</th>\n",
       "      <td>102</td>\n",
       "      <td>1</td>\n",
       "      <td>3.5</td>\n",
       "      <td>3.43</td>\n",
       "      <td>28.76</td>\n",
       "      <td>19.52</td>\n",
       "      <td>0.678720</td>\n",
       "    </tr>\n",
       "    <tr>\n",
       "      <th>2</th>\n",
       "      <td>103</td>\n",
       "      <td>1</td>\n",
       "      <td>2.0</td>\n",
       "      <td>3.31</td>\n",
       "      <td>23.40</td>\n",
       "      <td>10.89</td>\n",
       "      <td>0.465385</td>\n",
       "    </tr>\n",
       "    <tr>\n",
       "      <th>3</th>\n",
       "      <td>104</td>\n",
       "      <td>1</td>\n",
       "      <td>3.1</td>\n",
       "      <td>2.87</td>\n",
       "      <td>26.25</td>\n",
       "      <td>14.99</td>\n",
       "      <td>0.571048</td>\n",
       "    </tr>\n",
       "    <tr>\n",
       "      <th>4</th>\n",
       "      <td>105</td>\n",
       "      <td>1</td>\n",
       "      <td>3.6</td>\n",
       "      <td>4.02</td>\n",
       "      <td>26.17</td>\n",
       "      <td>16.68</td>\n",
       "      <td>0.637371</td>\n",
       "    </tr>\n",
       "  </tbody>\n",
       "</table>\n",
       "</div>"
      ],
      "text/plain": [
       "    ID  FG   FR  ATCL_P   dur (s)   phn-tm (s)  phonation_rate\n",
       "0  101   1  5.8    3.30     15.41        12.11        0.785853\n",
       "1  102   1  3.5    3.43     28.76        19.52        0.678720\n",
       "2  103   1  2.0    3.31     23.40        10.89        0.465385\n",
       "3  104   1  3.1    2.87     26.25        14.99        0.571048\n",
       "4  105   1  3.6    4.02     26.17        16.68        0.637371"
      ]
     },
     "execution_count": 6,
     "metadata": {},
     "output_type": "execute_result"
    }
   ],
   "source": [
    "df1.head()"
   ]
  },
  {
   "cell_type": "code",
   "execution_count": 29,
   "metadata": {},
   "outputs": [],
   "source": [
    "def average_maximum_possibility(post):\n",
    "    return np.mean(np.max(post, axis=1))"
   ]
  },
  {
   "cell_type": "code",
   "execution_count": 30,
   "metadata": {},
   "outputs": [],
   "source": [
    "def average_post(post):\n",
    "    return np.mean(post, axis=0)"
   ]
  },
  {
   "cell_type": "code",
   "execution_count": 31,
   "metadata": {},
   "outputs": [],
   "source": [
    "avg_max_pos = []\n",
    "avg_post = []\n",
    "x = []\n",
    "y = []\n",
    "\n",
    "for uttid in range(1, 101):\n",
    "    post_file_path = 'post/dnn5b_pretrain-dbn_dnn_2000_noise_aug/clean_wsj/50/UTT{}.csv'.format(uttid)\n",
    "    post_pd = pd.read_csv(post_file_path, header=None)\n",
    "    post = post_pd.to_numpy()\n",
    "    avg_max_pos.append(average_maximum_possibility(post))\n",
    "    avg_post.append(average_post(post))\n",
    "\n",
    "df1['average_maximum_possibility'] = avg_max_pos"
   ]
  },
  {
   "cell_type": "code",
   "execution_count": 32,
   "metadata": {},
   "outputs": [
    {
     "data": {
      "text/html": [
       "<div>\n",
       "<style scoped>\n",
       "    .dataframe tbody tr th:only-of-type {\n",
       "        vertical-align: middle;\n",
       "    }\n",
       "\n",
       "    .dataframe tbody tr th {\n",
       "        vertical-align: top;\n",
       "    }\n",
       "\n",
       "    .dataframe thead th {\n",
       "        text-align: right;\n",
       "    }\n",
       "</style>\n",
       "<table border=\"1\" class=\"dataframe\">\n",
       "  <thead>\n",
       "    <tr style=\"text-align: right;\">\n",
       "      <th></th>\n",
       "      <th>ID</th>\n",
       "      <th>FG</th>\n",
       "      <th>FR</th>\n",
       "      <th>ATCL_P</th>\n",
       "      <th>dur (s)</th>\n",
       "      <th>phn-tm (s)</th>\n",
       "      <th>phonation_rate</th>\n",
       "      <th>maximum_possibility_penalties</th>\n",
       "      <th>average_maximum_possibility</th>\n",
       "    </tr>\n",
       "  </thead>\n",
       "  <tbody>\n",
       "    <tr>\n",
       "      <th>0</th>\n",
       "      <td>101</td>\n",
       "      <td>1</td>\n",
       "      <td>5.8</td>\n",
       "      <td>3.30</td>\n",
       "      <td>15.41</td>\n",
       "      <td>12.11</td>\n",
       "      <td>0.785853</td>\n",
       "      <td>2.116858</td>\n",
       "      <td>0.790759</td>\n",
       "    </tr>\n",
       "    <tr>\n",
       "      <th>1</th>\n",
       "      <td>102</td>\n",
       "      <td>1</td>\n",
       "      <td>3.5</td>\n",
       "      <td>3.43</td>\n",
       "      <td>28.76</td>\n",
       "      <td>19.52</td>\n",
       "      <td>0.678720</td>\n",
       "      <td>2.177951</td>\n",
       "      <td>0.773674</td>\n",
       "    </tr>\n",
       "    <tr>\n",
       "      <th>2</th>\n",
       "      <td>103</td>\n",
       "      <td>1</td>\n",
       "      <td>2.0</td>\n",
       "      <td>3.31</td>\n",
       "      <td>23.40</td>\n",
       "      <td>10.89</td>\n",
       "      <td>0.465385</td>\n",
       "      <td>2.133309</td>\n",
       "      <td>0.779387</td>\n",
       "    </tr>\n",
       "    <tr>\n",
       "      <th>3</th>\n",
       "      <td>104</td>\n",
       "      <td>1</td>\n",
       "      <td>3.1</td>\n",
       "      <td>2.87</td>\n",
       "      <td>26.25</td>\n",
       "      <td>14.99</td>\n",
       "      <td>0.571048</td>\n",
       "      <td>2.144109</td>\n",
       "      <td>0.782529</td>\n",
       "    </tr>\n",
       "    <tr>\n",
       "      <th>4</th>\n",
       "      <td>105</td>\n",
       "      <td>1</td>\n",
       "      <td>3.6</td>\n",
       "      <td>4.02</td>\n",
       "      <td>26.17</td>\n",
       "      <td>16.68</td>\n",
       "      <td>0.637371</td>\n",
       "      <td>2.463123</td>\n",
       "      <td>0.755062</td>\n",
       "    </tr>\n",
       "  </tbody>\n",
       "</table>\n",
       "</div>"
      ],
      "text/plain": [
       "    ID  FG   FR  ATCL_P   dur (s)   phn-tm (s)  phonation_rate  \\\n",
       "0  101   1  5.8    3.30     15.41        12.11        0.785853   \n",
       "1  102   1  3.5    3.43     28.76        19.52        0.678720   \n",
       "2  103   1  2.0    3.31     23.40        10.89        0.465385   \n",
       "3  104   1  3.1    2.87     26.25        14.99        0.571048   \n",
       "4  105   1  3.6    4.02     26.17        16.68        0.637371   \n",
       "\n",
       "   maximum_possibility_penalties  average_maximum_possibility  \n",
       "0                       2.116858                     0.790759  \n",
       "1                       2.177951                     0.773674  \n",
       "2                       2.133309                     0.779387  \n",
       "3                       2.144109                     0.782529  \n",
       "4                       2.463123                     0.755062  "
      ]
     },
     "execution_count": 32,
     "metadata": {},
     "output_type": "execute_result"
    }
   ],
   "source": [
    "df1.head()"
   ]
  },
  {
   "cell_type": "code",
   "execution_count": 7,
   "metadata": {},
   "outputs": [],
   "source": [
    "def elastic_cv(X,y,k,c):\n",
    "    coef = []\n",
    "    r2_train = []\n",
    "    r2_test = []\n",
    "    r2 = []\n",
    "    all_pred = []\n",
    "    all_y = []\n",
    "    kf = KFold(n_splits = k, shuffle = True)\n",
    "    clf = ElasticNet(alpha=0.1,l1_ratio=0.9)\n",
    "    for train_index, test_index in kf.split(X):\n",
    "        X_train, X_test = X.iloc[train_index], X.iloc[test_index]\n",
    "        y_train, y_test = y.iloc[train_index], y.iloc[test_index]\n",
    "        ss = StandardScaler()\n",
    "        X_train = ss.fit_transform(X_train)\n",
    "        X_test = ss.transform(X_test)\n",
    "        clf.fit(X_train, y_train) \n",
    "        coef.append(clf.coef_)\n",
    "        pred_test = clf.predict(X_test)\n",
    "        r2_train.append(r2_score(y_train, clf.predict(X_train)))\n",
    "        r2_test.append(r2_score(y_test, pred_test))\n",
    "        all_pred.append(pred_test)\n",
    "        all_y.append(y_test.values)\n",
    "        \n",
    "    coef_mean = []\n",
    "    for j in range(c):\n",
    "        coef_j = []\n",
    "        for l in range(k):\n",
    "            coef_j.append(coef[l][j])\n",
    "        coef_mean.append(mean(coef_j))\n",
    "    print(\"回帰変数\", coef_mean)\n",
    "    \n",
    "    from scipy.stats import pearsonr\n",
    "  \n",
    "    a, b = pearsonr(np.ravel(all_pred), np.ravel(all_y))\n",
    "    print(\"相関係数:\", a)\n",
    "    print(\"p値:\", b)\n",
    "\n",
    "    print('r2_test:',mean(r2_test)) #r2_test: 決定係数"
   ]
  },
  {
   "cell_type": "code",
   "execution_count": 8,
   "metadata": {
    "scrolled": true
   },
   "outputs": [
    {
     "name": "stdout",
     "output_type": "stream",
     "text": [
      "回帰変数 [0.7634626984956112, 1.3354982691744919]\n",
      "相関係数: 0.8191443559900353\n",
      "p値: 2.1503861562734664e-25\n",
      "r2_test: 0.6670081753647026\n"
     ]
    }
   ],
   "source": [
    "elastic_cv(X,y,5,2)"
   ]
  },
  {
   "cell_type": "code",
   "execution_count": null,
   "metadata": {},
   "outputs": [],
   "source": []
  }
 ],
 "metadata": {
  "interpreter": {
   "hash": "2499e96b6d0d7fdcc6c339f4902b9c8639e746c081e1007265a219129553f895"
  },
  "kernelspec": {
   "display_name": "Python 3.7.4 ('base')",
   "language": "python",
   "name": "python3"
  },
  "language_info": {
   "codemirror_mode": {
    "name": "ipython",
    "version": 3
   },
   "file_extension": ".py",
   "mimetype": "text/x-python",
   "name": "python",
   "nbconvert_exporter": "python",
   "pygments_lexer": "ipython3",
   "version": "3.7.4"
  }
 },
 "nbformat": 4,
 "nbformat_minor": 2
}
